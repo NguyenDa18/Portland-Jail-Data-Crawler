{
 "cells": [
  {
   "cell_type": "code",
   "execution_count": 1,
   "id": "20998604",
   "metadata": {},
   "outputs": [],
   "source": [
    "import pandas as pd"
   ]
  },
  {
   "cell_type": "code",
   "execution_count": 9,
   "id": "bf23a825",
   "metadata": {},
   "outputs": [],
   "source": [
    "df = pd.read_csv(\"csvs/inmate_charges.csv\", names=[\"Charges\", \"Bail Amount\", \"Bail Status\", \"Name\"], header=None)"
   ]
  },
  {
   "cell_type": "code",
   "execution_count": 10,
   "id": "4156c4e5",
   "metadata": {},
   "outputs": [
    {
     "data": {
      "text/html": [
       "<div>\n",
       "<style scoped>\n",
       "    .dataframe tbody tr th:only-of-type {\n",
       "        vertical-align: middle;\n",
       "    }\n",
       "\n",
       "    .dataframe tbody tr th {\n",
       "        vertical-align: top;\n",
       "    }\n",
       "\n",
       "    .dataframe thead th {\n",
       "        text-align: right;\n",
       "    }\n",
       "</style>\n",
       "<table border=\"1\" class=\"dataframe\">\n",
       "  <thead>\n",
       "    <tr style=\"text-align: right;\">\n",
       "      <th></th>\n",
       "      <th>Charges</th>\n",
       "      <th>Bail Amount</th>\n",
       "      <th>Bail Status</th>\n",
       "      <th>Name</th>\n",
       "    </tr>\n",
       "  </thead>\n",
       "  <tbody>\n",
       "    <tr>\n",
       "      <th>0</th>\n",
       "      <td>PAROLE OR PPSV VIOL (U Felony)</td>\n",
       "      <td>$0</td>\n",
       "      <td>Unsentenced</td>\n",
       "      <td>Adamson, Antawn Deshawn</td>\n",
       "    </tr>\n",
       "    <tr>\n",
       "      <th>1</th>\n",
       "      <td>ATT MURDER II DV (A Felony)</td>\n",
       "      <td>$0</td>\n",
       "      <td>Released</td>\n",
       "      <td>Dobbs, Timothy John</td>\n",
       "    </tr>\n",
       "    <tr>\n",
       "      <th>2</th>\n",
       "      <td>UNLAW POSS FIREARM (A Misdemeanor)</td>\n",
       "      <td>$2,500</td>\n",
       "      <td>Unsentenced</td>\n",
       "      <td>Dobbs, Timothy John</td>\n",
       "    </tr>\n",
       "    <tr>\n",
       "      <th>3</th>\n",
       "      <td>FELON POSS FA (C Felony)</td>\n",
       "      <td>$5,000</td>\n",
       "      <td>Unsentenced</td>\n",
       "      <td>Dobbs, Timothy John</td>\n",
       "    </tr>\n",
       "    <tr>\n",
       "      <th>4</th>\n",
       "      <td>THEFT I (C Felony)</td>\n",
       "      <td>$0</td>\n",
       "      <td>Released</td>\n",
       "      <td>Dobbs, Timothy John</td>\n",
       "    </tr>\n",
       "    <tr>\n",
       "      <th>...</th>\n",
       "      <td>...</td>\n",
       "      <td>...</td>\n",
       "      <td>...</td>\n",
       "      <td>...</td>\n",
       "    </tr>\n",
       "    <tr>\n",
       "      <th>9256</th>\n",
       "      <td>POSS ILLEG WEAPON (B Felony)</td>\n",
       "      <td>$0</td>\n",
       "      <td>Unsentenced</td>\n",
       "      <td>Brasuell, Joseph David</td>\n",
       "    </tr>\n",
       "    <tr>\n",
       "      <th>9257</th>\n",
       "      <td>ROBBERY III (C Felony)</td>\n",
       "      <td>$0</td>\n",
       "      <td>Sentenced</td>\n",
       "      <td>Baker, Kevin Wayne</td>\n",
       "    </tr>\n",
       "    <tr>\n",
       "      <th>9258</th>\n",
       "      <td>IDENTITY THEFT (C Felony)</td>\n",
       "      <td>$0</td>\n",
       "      <td>Unsentenced</td>\n",
       "      <td>Armstrong, Amanda Rae</td>\n",
       "    </tr>\n",
       "    <tr>\n",
       "      <th>9259</th>\n",
       "      <td>IDENTITY THEFT (C Felony)</td>\n",
       "      <td>$0</td>\n",
       "      <td>Unsentenced</td>\n",
       "      <td>Armstrong, Amanda Rae</td>\n",
       "    </tr>\n",
       "    <tr>\n",
       "      <th>9260</th>\n",
       "      <td>IDENTITY THEFT (C Felony)</td>\n",
       "      <td>$0</td>\n",
       "      <td>Unsentenced</td>\n",
       "      <td>Armstrong, Amanda Rae</td>\n",
       "    </tr>\n",
       "  </tbody>\n",
       "</table>\n",
       "<p>9261 rows × 4 columns</p>\n",
       "</div>"
      ],
      "text/plain": [
       "                                 Charges Bail Amount  Bail Status  \\\n",
       "0         PAROLE OR PPSV VIOL (U Felony)          $0  Unsentenced   \n",
       "1            ATT MURDER II DV (A Felony)          $0     Released   \n",
       "2     UNLAW POSS FIREARM (A Misdemeanor)      $2,500  Unsentenced   \n",
       "3               FELON POSS FA (C Felony)      $5,000  Unsentenced   \n",
       "4                     THEFT I (C Felony)          $0     Released   \n",
       "...                                  ...         ...          ...   \n",
       "9256        POSS ILLEG WEAPON (B Felony)          $0  Unsentenced   \n",
       "9257              ROBBERY III (C Felony)          $0    Sentenced   \n",
       "9258           IDENTITY THEFT (C Felony)          $0  Unsentenced   \n",
       "9259           IDENTITY THEFT (C Felony)          $0  Unsentenced   \n",
       "9260           IDENTITY THEFT (C Felony)          $0  Unsentenced   \n",
       "\n",
       "                         Name  \n",
       "0     Adamson, Antawn Deshawn  \n",
       "1         Dobbs, Timothy John  \n",
       "2         Dobbs, Timothy John  \n",
       "3         Dobbs, Timothy John  \n",
       "4         Dobbs, Timothy John  \n",
       "...                       ...  \n",
       "9256   Brasuell, Joseph David  \n",
       "9257       Baker, Kevin Wayne  \n",
       "9258    Armstrong, Amanda Rae  \n",
       "9259    Armstrong, Amanda Rae  \n",
       "9260    Armstrong, Amanda Rae  \n",
       "\n",
       "[9261 rows x 4 columns]"
      ]
     },
     "execution_count": 10,
     "metadata": {},
     "output_type": "execute_result"
    }
   ],
   "source": [
    "df"
   ]
  },
  {
   "cell_type": "code",
   "execution_count": 19,
   "id": "768cdb40",
   "metadata": {},
   "outputs": [
    {
     "data": {
      "text/plain": [
       "UNLAW USE WEAPON (C Felony)       475\n",
       "UUMV (C Felony)                   378\n",
       "COUNTY HOLD (U Unknown)           361\n",
       "IDENTITY THEFT (C Felony)         293\n",
       "POSS STOLEN MV (C Felony)         257\n",
       "SEX ABUSE I (B Felony)            244\n",
       "FELON POSS FA (C Felony)          236\n",
       "PAROLE OR PPSV VIOL (U Felony)    221\n",
       "ROBBERY I (A Felony)              207\n",
       "THEFT I (C Felony)                193\n",
       "USE CHILD DSPLY SX (A Felony)     181\n",
       "CRIM MISCH II (A Misdemeanor)     180\n",
       "BURGLARY I (A Felony)             165\n",
       "ASSAULT II (B Felony)             161\n",
       "ROBBERY II (B Felony)             149\n",
       "MENACING (A Misdemeanor)          149\n",
       "ENC CHILD SEX AB 1 (B Felony)     140\n",
       "RECK ENDANGER (A Misdemeanor)     137\n",
       "CRIM MISCH I (C Felony)           134\n",
       "SEX ABUSE III (A Misdemeanor)     132\n",
       "Name: Charges, dtype: int64"
      ]
     },
     "execution_count": 19,
     "metadata": {},
     "output_type": "execute_result"
    }
   ],
   "source": [
    "df[\"Charges\"].value_counts()[:20]"
   ]
  },
  {
   "cell_type": "code",
   "execution_count": 20,
   "id": "9affd310",
   "metadata": {},
   "outputs": [
    {
     "data": {
      "text/plain": [
       "Unsentenced    5927\n",
       "Released       3174\n",
       "Sentenced       150\n",
       "Prison           10\n",
       "Name: Bail Status, dtype: int64"
      ]
     },
     "execution_count": 20,
     "metadata": {},
     "output_type": "execute_result"
    }
   ],
   "source": [
    "df[\"Bail Status\"].value_counts()"
   ]
  },
  {
   "cell_type": "code",
   "execution_count": null,
   "id": "e5fc5027",
   "metadata": {},
   "outputs": [],
   "source": []
  }
 ],
 "metadata": {
  "kernelspec": {
   "display_name": "Python 3 (ipykernel)",
   "language": "python",
   "name": "python3"
  },
  "language_info": {
   "codemirror_mode": {
    "name": "ipython",
    "version": 3
   },
   "file_extension": ".py",
   "mimetype": "text/x-python",
   "name": "python",
   "nbconvert_exporter": "python",
   "pygments_lexer": "ipython3",
   "version": "3.9.12"
  }
 },
 "nbformat": 4,
 "nbformat_minor": 5
}
