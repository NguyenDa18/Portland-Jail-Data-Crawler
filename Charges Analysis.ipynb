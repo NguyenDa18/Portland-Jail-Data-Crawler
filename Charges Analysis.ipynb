{
 "cells": [
  {
   "cell_type": "code",
   "execution_count": 6,
   "id": "a0d729a8",
   "metadata": {},
   "outputs": [],
   "source": [
    "import pandas as pd\n",
    "import requests\n",
    "from bs4 import BeautifulSoup\n",
    "import json\n",
    "from pymongo import MongoClient"
   ]
  },
  {
   "cell_type": "code",
   "execution_count": 44,
   "id": "982f3bba",
   "metadata": {},
   "outputs": [],
   "source": [
    "pd.set_option('display.max_rows', 500)"
   ]
  },
  {
   "cell_type": "code",
   "execution_count": 3,
   "id": "c5f078ea",
   "metadata": {},
   "outputs": [],
   "source": [
    "mongo_connection = \"INSERT_URL\""
   ]
  },
  {
   "cell_type": "code",
   "execution_count": 7,
   "id": "598d1286",
   "metadata": {},
   "outputs": [],
   "source": [
    "MULT_COUNTY_JAIL_BOOKINGS_URL = \"http://www.mcso.us/PAID/Home/SearchResults\""
   ]
  },
  {
   "cell_type": "code",
   "execution_count": 4,
   "id": "eb51d2bc",
   "metadata": {},
   "outputs": [],
   "source": [
    "client = MongoClient(mongo_connection)"
   ]
  },
  {
   "cell_type": "code",
   "execution_count": 18,
   "id": "14a57a18",
   "metadata": {},
   "outputs": [],
   "source": [
    "db = client.data"
   ]
  },
  {
   "cell_type": "code",
   "execution_count": 48,
   "id": "d707c470",
   "metadata": {},
   "outputs": [],
   "source": [
    "db.charges.drop()"
   ]
  },
  {
   "cell_type": "code",
   "execution_count": 12,
   "id": "752cad58",
   "metadata": {},
   "outputs": [],
   "source": [
    "CSV_url = \"csvs/inmate_details.csv\""
   ]
  },
  {
   "cell_type": "code",
   "execution_count": 13,
   "id": "d5f2d4c6",
   "metadata": {},
   "outputs": [],
   "source": [
    "INMATE_COLUMNS = ['SWIS ID', 'Name', 'Age', 'Gender', 'Race', 'Height', 'Weight', 'Hair', 'Eyes', 'Arresting Agency', 'Booking Date', 'Assigned Facility', 'Projected Release Date']"
   ]
  },
  {
   "cell_type": "code",
   "execution_count": 49,
   "id": "d24d86f5",
   "metadata": {},
   "outputs": [],
   "source": [
    "response = requests.post(MULT_COUNTY_JAIL_BOOKINGS_URL)"
   ]
  },
  {
   "cell_type": "code",
   "execution_count": 50,
   "id": "fa009df8",
   "metadata": {},
   "outputs": [],
   "source": [
    "soup = BeautifulSoup(response.text, 'html.parser')"
   ]
  },
  {
   "cell_type": "code",
   "execution_count": 51,
   "id": "4e35f595",
   "metadata": {},
   "outputs": [],
   "source": [
    "table = soup.find('table')\n",
    "table_input = table.prettify()"
   ]
  },
  {
   "cell_type": "code",
   "execution_count": 52,
   "id": "a60619d3",
   "metadata": {},
   "outputs": [],
   "source": [
    "# parse dates of column at index 1\n",
    "table_to_df = pd.read_html(table_input, parse_dates=[1])[0]\n",
    "\n",
    "# sort by date descending\n",
    "table_to_df = table_to_df.sort_values(by=[\"Booking Date\", \"Name\"], ascending = [False, True])"
   ]
  },
  {
   "cell_type": "code",
   "execution_count": 53,
   "id": "b90b87a4",
   "metadata": {},
   "outputs": [],
   "source": [
    "links = table.find_all('a')"
   ]
  },
  {
   "cell_type": "code",
   "execution_count": null,
   "id": "b28e9f46",
   "metadata": {},
   "outputs": [],
   "source": [
    "for link in links:\n",
    "    booking_url = link.get('href')\n",
    "    inmate_link = \"http://www.mcso.us\" + booking_url\n",
    "    \n",
    "    # go to inmate's page\n",
    "    inmate_response = requests.get(inmate_link)\n",
    "    soup = BeautifulSoup(inmate_response.text, 'html.parser')\n",
    "    \n",
    "    # get table and just grab name\n",
    "    table_input = soup.find('table').prettify()\n",
    "    booking_table = pd.read_html(table_input)[0][1]\n",
    "    \n",
    "    \n",
    "    charge_infos = soup.find(id='charge-info')\n",
    "    charge_items = []\n",
    "    charges = charge_infos.select('div > div > ol')\n",
    "    for charge in charges:\n",
    "        for el in charge.find_all('li'):\n",
    "            charge_type = el.find('span').getText()\n",
    "            charge_bail = el.find(class_='charge-bail-display').text\n",
    "            charge_status = el.find(class_='charge-status-value').text\n",
    "            charge_item = {\n",
    "                'Type': charge_type,\n",
    "                'Bail': charge_bail,\n",
    "                'Status': charge_status,\n",
    "                'Name': booking_table[1]\n",
    "            }\n",
    "            db.charges.insert_one(charge_item)\n",
    "    "
   ]
  },
  {
   "cell_type": "code",
   "execution_count": 26,
   "id": "2c9a0406",
   "metadata": {},
   "outputs": [
    {
     "data": {
      "text/plain": [
       "9525"
      ]
     },
     "execution_count": 26,
     "metadata": {},
     "output_type": "execute_result"
    }
   ],
   "source": [
    "db.charges.count_documents({})"
   ]
  },
  {
   "cell_type": "code",
   "execution_count": 27,
   "id": "61eb4f1d",
   "metadata": {},
   "outputs": [],
   "source": [
    "docs = db.charges.find({})"
   ]
  },
  {
   "cell_type": "code",
   "execution_count": 30,
   "id": "1f5a76a8",
   "metadata": {},
   "outputs": [],
   "source": [
    "inmates_charges = [doc for doc in docs]"
   ]
  },
  {
   "cell_type": "code",
   "execution_count": 31,
   "id": "7df106e7",
   "metadata": {},
   "outputs": [],
   "source": [
    "inmates_charges_df = pd.DataFrame(inmates_charges)"
   ]
  },
  {
   "cell_type": "code",
   "execution_count": 45,
   "id": "aee6796f",
   "metadata": {},
   "outputs": [
    {
     "data": {
      "text/html": [
       "<div>\n",
       "<style scoped>\n",
       "    .dataframe tbody tr th:only-of-type {\n",
       "        vertical-align: middle;\n",
       "    }\n",
       "\n",
       "    .dataframe tbody tr th {\n",
       "        vertical-align: top;\n",
       "    }\n",
       "\n",
       "    .dataframe thead th {\n",
       "        text-align: right;\n",
       "    }\n",
       "</style>\n",
       "<table border=\"1\" class=\"dataframe\">\n",
       "  <thead>\n",
       "    <tr style=\"text-align: right;\">\n",
       "      <th></th>\n",
       "      <th>_id</th>\n",
       "      <th>Type</th>\n",
       "      <th>Bail</th>\n",
       "      <th>Status</th>\n",
       "      <th>Name</th>\n",
       "    </tr>\n",
       "  </thead>\n",
       "  <tbody>\n",
       "    <tr>\n",
       "      <th>0</th>\n",
       "      <td>631d8aea7dba1a69bec4bc4a</td>\n",
       "      <td>UNLAW USE WEAPON (C Felony)</td>\n",
       "      <td>Bail: $0</td>\n",
       "      <td>Unsentenced</td>\n",
       "      <td>/PAID/Home/Booking/1545155</td>\n",
       "    </tr>\n",
       "    <tr>\n",
       "      <th>1</th>\n",
       "      <td>631d8aea7dba1a69bec4bc4b</td>\n",
       "      <td>FELON POSS FA (C Felony)</td>\n",
       "      <td>Bail: $500</td>\n",
       "      <td>Unsentenced</td>\n",
       "      <td>/PAID/Home/Booking/1545155</td>\n",
       "    </tr>\n",
       "    <tr>\n",
       "      <th>2</th>\n",
       "      <td>631d8aea7dba1a69bec4bc4c</td>\n",
       "      <td>ATT ELUDE BY VEHCLE (C Felony)</td>\n",
       "      <td>Bail: $0</td>\n",
       "      <td>Unsentenced</td>\n",
       "      <td>/PAID/Home/Booking/1545155</td>\n",
       "    </tr>\n",
       "    <tr>\n",
       "      <th>3</th>\n",
       "      <td>631d8aea7dba1a69bec4bc4d</td>\n",
       "      <td>ATT ELUDE ON FOOT (A Misdemeanor)</td>\n",
       "      <td>Bail: $0</td>\n",
       "      <td>Unsentenced</td>\n",
       "      <td>/PAID/Home/Booking/1545155</td>\n",
       "    </tr>\n",
       "    <tr>\n",
       "      <th>4</th>\n",
       "      <td>631d8aea7dba1a69bec4bc4e</td>\n",
       "      <td>DWS/REV  MISD (A Misdemeanor)</td>\n",
       "      <td>Bail: $0</td>\n",
       "      <td>Unsentenced</td>\n",
       "      <td>/PAID/Home/Booking/1545155</td>\n",
       "    </tr>\n",
       "    <tr>\n",
       "      <th>...</th>\n",
       "      <td>...</td>\n",
       "      <td>...</td>\n",
       "      <td>...</td>\n",
       "      <td>...</td>\n",
       "      <td>...</td>\n",
       "    </tr>\n",
       "    <tr>\n",
       "      <th>9519</th>\n",
       "      <td>631d8d3e7dba1a69bec4e179</td>\n",
       "      <td>HARASSMENT - B MISD (B Misdemeanor)</td>\n",
       "      <td>Bail: $0</td>\n",
       "      <td>Unsentenced</td>\n",
       "      <td>/PAID/Home/Booking/1537541</td>\n",
       "    </tr>\n",
       "    <tr>\n",
       "      <th>9520</th>\n",
       "      <td>631d8d3e7dba1a69bec4e17a</td>\n",
       "      <td>RESIST ARREST (A Misdemeanor)</td>\n",
       "      <td>Bail: $2,000</td>\n",
       "      <td>Unsentenced</td>\n",
       "      <td>/PAID/Home/Booking/1537541</td>\n",
       "    </tr>\n",
       "    <tr>\n",
       "      <th>9521</th>\n",
       "      <td>631d8d3e7dba1a69bec4e17b</td>\n",
       "      <td>INTERFER PEACE OFF (A Misdemeanor)</td>\n",
       "      <td>Bail: $0</td>\n",
       "      <td>Unsentenced</td>\n",
       "      <td>/PAID/Home/Booking/1537541</td>\n",
       "    </tr>\n",
       "    <tr>\n",
       "      <th>9522</th>\n",
       "      <td>631d8d3e7dba1a69bec4e17c</td>\n",
       "      <td>THEFT III (C Misdemeanor)</td>\n",
       "      <td>Bail: $0</td>\n",
       "      <td>Unsentenced</td>\n",
       "      <td>/PAID/Home/Booking/1537541</td>\n",
       "    </tr>\n",
       "    <tr>\n",
       "      <th>9523</th>\n",
       "      <td>631d8d3e7dba1a69bec4e17d</td>\n",
       "      <td>TRESPASS II (C Misdemeanor)</td>\n",
       "      <td>Bail: $2,000</td>\n",
       "      <td>Unsentenced</td>\n",
       "      <td>/PAID/Home/Booking/1537541</td>\n",
       "    </tr>\n",
       "  </tbody>\n",
       "</table>\n",
       "<p>9524 rows × 5 columns</p>\n",
       "</div>"
      ],
      "text/plain": [
       "                           _id                                 Type  \\\n",
       "0     631d8aea7dba1a69bec4bc4a          UNLAW USE WEAPON (C Felony)   \n",
       "1     631d8aea7dba1a69bec4bc4b             FELON POSS FA (C Felony)   \n",
       "2     631d8aea7dba1a69bec4bc4c       ATT ELUDE BY VEHCLE (C Felony)   \n",
       "3     631d8aea7dba1a69bec4bc4d    ATT ELUDE ON FOOT (A Misdemeanor)   \n",
       "4     631d8aea7dba1a69bec4bc4e        DWS/REV  MISD (A Misdemeanor)   \n",
       "...                        ...                                  ...   \n",
       "9519  631d8d3e7dba1a69bec4e179  HARASSMENT - B MISD (B Misdemeanor)   \n",
       "9520  631d8d3e7dba1a69bec4e17a        RESIST ARREST (A Misdemeanor)   \n",
       "9521  631d8d3e7dba1a69bec4e17b   INTERFER PEACE OFF (A Misdemeanor)   \n",
       "9522  631d8d3e7dba1a69bec4e17c            THEFT III (C Misdemeanor)   \n",
       "9523  631d8d3e7dba1a69bec4e17d          TRESPASS II (C Misdemeanor)   \n",
       "\n",
       "              Bail       Status                        Name  \n",
       "0         Bail: $0  Unsentenced  /PAID/Home/Booking/1545155  \n",
       "1       Bail: $500  Unsentenced  /PAID/Home/Booking/1545155  \n",
       "2         Bail: $0  Unsentenced  /PAID/Home/Booking/1545155  \n",
       "3         Bail: $0  Unsentenced  /PAID/Home/Booking/1545155  \n",
       "4         Bail: $0  Unsentenced  /PAID/Home/Booking/1545155  \n",
       "...            ...          ...                         ...  \n",
       "9519      Bail: $0  Unsentenced  /PAID/Home/Booking/1537541  \n",
       "9520  Bail: $2,000  Unsentenced  /PAID/Home/Booking/1537541  \n",
       "9521      Bail: $0  Unsentenced  /PAID/Home/Booking/1537541  \n",
       "9522      Bail: $0  Unsentenced  /PAID/Home/Booking/1537541  \n",
       "9523  Bail: $2,000  Unsentenced  /PAID/Home/Booking/1537541  \n",
       "\n",
       "[9524 rows x 5 columns]"
      ]
     },
     "execution_count": 45,
     "metadata": {},
     "output_type": "execute_result"
    }
   ],
   "source": [
    "inmates_charges_df"
   ]
  },
  {
   "cell_type": "code",
   "execution_count": 38,
   "id": "5e9a1433",
   "metadata": {},
   "outputs": [
    {
     "data": {
      "text/plain": [
       "UNLAW USE WEAPON (C Felony)        471\n",
       "UUMV (C Felony)                    383\n",
       "COUNTY HOLD (U Unknown)            355\n",
       "IDENTITY THEFT (C Felony)          275\n",
       "FELON POSS FA (C Felony)           266\n",
       "                                  ... \n",
       "UNL DIS INTIMATE IMG (C Felony)      1\n",
       "CRIM MISCH I - DV (C Felony)         1\n",
       "TRESPASS II (A Misdemeanor)          1\n",
       "ROBBERY I DV (A Felony)              1\n",
       "ATT THEFT II (B Misdemeanor)         1\n",
       "Name: Type, Length: 293, dtype: int64"
      ]
     },
     "execution_count": 38,
     "metadata": {},
     "output_type": "execute_result"
    }
   ],
   "source": [
    "inmates_charges_df['Type'].value_counts()"
   ]
  },
  {
   "cell_type": "code",
   "execution_count": null,
   "id": "cbd0d4f7",
   "metadata": {},
   "outputs": [],
   "source": []
  }
 ],
 "metadata": {
  "kernelspec": {
   "display_name": "Python 3 (ipykernel)",
   "language": "python",
   "name": "python3"
  },
  "language_info": {
   "codemirror_mode": {
    "name": "ipython",
    "version": 3
   },
   "file_extension": ".py",
   "mimetype": "text/x-python",
   "name": "python",
   "nbconvert_exporter": "python",
   "pygments_lexer": "ipython3",
   "version": "3.9.12"
  }
 },
 "nbformat": 4,
 "nbformat_minor": 5
}
