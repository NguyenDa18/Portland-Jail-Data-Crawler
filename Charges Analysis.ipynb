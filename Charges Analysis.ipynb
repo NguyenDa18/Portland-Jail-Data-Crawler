{
 "cells": [
  {
   "cell_type": "code",
   "execution_count": 1,
   "id": "a0d729a8",
   "metadata": {},
   "outputs": [],
   "source": [
    "import pandas as pd\n",
    "import requests\n",
    "from bs4 import BeautifulSoup\n",
    "import json\n",
    "from pymongo import MongoClient\n",
    "from tqdm import tqdm"
   ]
  },
  {
   "cell_type": "code",
   "execution_count": 7,
   "id": "c5f078ea",
   "metadata": {},
   "outputs": [],
   "source": [
    "mongo_connection = \"\""
   ]
  },
  {
   "cell_type": "code",
   "execution_count": 34,
   "id": "598d1286",
   "metadata": {},
   "outputs": [],
   "source": [
    "MULT_COUNTY_JAIL_BOOKINGS_URL = \"http://www.mcso.us/PAID/Home/SearchResults\""
   ]
  },
  {
   "cell_type": "code",
   "execution_count": 9,
   "id": "eb51d2bc",
   "metadata": {},
   "outputs": [],
   "source": [
    "client = MongoClient(mongo_connection)"
   ]
  },
  {
   "cell_type": "code",
   "execution_count": 10,
   "id": "14a57a18",
   "metadata": {},
   "outputs": [],
   "source": [
    "db = client.data"
   ]
  },
  {
   "cell_type": "code",
   "execution_count": 11,
   "id": "d707c470",
   "metadata": {},
   "outputs": [],
   "source": [
    "db.charges.drop()"
   ]
  },
  {
   "cell_type": "code",
   "execution_count": 35,
   "id": "d24d86f5",
   "metadata": {},
   "outputs": [],
   "source": [
    "response = requests.post(MULT_COUNTY_JAIL_BOOKINGS_URL)"
   ]
  },
  {
   "cell_type": "code",
   "execution_count": 36,
   "id": "fa009df8",
   "metadata": {},
   "outputs": [],
   "source": [
    "soup = BeautifulSoup(response.text, 'html.parser')"
   ]
  },
  {
   "cell_type": "code",
   "execution_count": 37,
   "id": "4e35f595",
   "metadata": {},
   "outputs": [],
   "source": [
    "table = soup.find('table')\n",
    "table_input = table.prettify()"
   ]
  },
  {
   "cell_type": "code",
   "execution_count": 38,
   "id": "a60619d3",
   "metadata": {},
   "outputs": [],
   "source": [
    "# parse dates of column at index 1\n",
    "table_to_df = pd.read_html(table_input, parse_dates=[1])[0]\n",
    "\n",
    "# sort by date descending\n",
    "table_to_df = table_to_df.sort_values(by=[\"Booking Date\", \"Name\"], ascending = [False, True])"
   ]
  },
  {
   "cell_type": "code",
   "execution_count": 39,
   "id": "b90b87a4",
   "metadata": {},
   "outputs": [],
   "source": [
    "links = table.find_all('a')"
   ]
  },
  {
   "cell_type": "code",
   "execution_count": 40,
   "id": "b28e9f46",
   "metadata": {},
   "outputs": [
    {
     "name": "stderr",
     "output_type": "stream",
     "text": [
      "100%|███████████████████████████████████████████████████████████████████████████| 882/882 [03:43<00:00,  3.95it/s]\n"
     ]
    }
   ],
   "source": [
    "charge_items = list()\n",
    "for link in tqdm(links):\n",
    "    booking_url = link.get('href')\n",
    "    inmate_link = \"http://www.mcso.us\" + booking_url\n",
    "    \n",
    "    # go to inmate's page\n",
    "    inmate_response = requests.get(inmate_link)\n",
    "    soup = BeautifulSoup(inmate_response.text, 'html.parser')\n",
    "    \n",
    "    # get table and just grab name\n",
    "    table_input = soup.find('table').prettify()\n",
    "    booking_table = pd.read_html(table_input)[0][1]\n",
    "    \n",
    "    \n",
    "    charge_infos = soup.find(id='charge-info')\n",
    "    charges = charge_infos.select('div > div > ol')\n",
    "    for charge in charges:\n",
    "        for el in charge.find_all('li'):\n",
    "            charge_type = el.find('span').getText()\n",
    "            charge_bail = el.find(class_='charge-bail-display').text\n",
    "            charge_status = el.find(class_='charge-status-value').text\n",
    "            charge_item = {\n",
    "                'Type': charge_type,\n",
    "                'Bail': charge_bail,\n",
    "                'Status': charge_status,\n",
    "                'Name': booking_table[1]\n",
    "            }\n",
    "            charge_items.append(charge_item)\n",
    "#             db.charges.insert_one(charge_item)\n",
    "            \n",
    "    "
   ]
  },
  {
   "cell_type": "code",
   "execution_count": 41,
   "id": "dae23671",
   "metadata": {},
   "outputs": [
    {
     "data": {
      "text/plain": [
       "9407"
      ]
     },
     "execution_count": 41,
     "metadata": {},
     "output_type": "execute_result"
    }
   ],
   "source": [
    "len(charge_items)"
   ]
  },
  {
   "cell_type": "code",
   "execution_count": 34,
   "id": "2c9a0406",
   "metadata": {},
   "outputs": [
    {
     "data": {
      "text/plain": [
       "9571"
      ]
     },
     "execution_count": 34,
     "metadata": {},
     "output_type": "execute_result"
    }
   ],
   "source": [
    "db.inmates_charges.count_documents({})"
   ]
  },
  {
   "cell_type": "code",
   "execution_count": 32,
   "id": "61eb4f1d",
   "metadata": {},
   "outputs": [],
   "source": [
    "docs = db.inmates_charges.find({})"
   ]
  },
  {
   "cell_type": "code",
   "execution_count": 35,
   "id": "bba5f317",
   "metadata": {},
   "outputs": [],
   "source": [
    "charges_df = pd.DataFrame(charge_items)"
   ]
  },
  {
   "cell_type": "code",
   "execution_count": 37,
   "id": "e6c4c22e",
   "metadata": {},
   "outputs": [],
   "source": [
    "charges_df.to_csv(\"csvs/inmates_charges.csv\", index=False)"
   ]
  },
  {
   "cell_type": "code",
   "execution_count": 30,
   "id": "1f5a76a8",
   "metadata": {},
   "outputs": [],
   "source": [
    "inmates_charges = [doc for doc in docs]"
   ]
  },
  {
   "cell_type": "code",
   "execution_count": 31,
   "id": "7df106e7",
   "metadata": {},
   "outputs": [],
   "source": [
    "inmates_charges_df = pd.DataFrame(inmates_charges)"
   ]
  },
  {
   "cell_type": "code",
   "execution_count": 2,
   "id": "4b6ab1b0",
   "metadata": {},
   "outputs": [],
   "source": [
    "inmates_details_df = pd.read_csv(\"csvs/inmate_details.csv\")"
   ]
  },
  {
   "cell_type": "code",
   "execution_count": 3,
   "id": "d8b504fb",
   "metadata": {},
   "outputs": [
    {
     "name": "stdout",
     "output_type": "stream",
     "text": [
      "2022-10-04\n"
     ]
    }
   ],
   "source": [
    "import datetime \n",
    "\n",
    "currentDate = datetime.date.today().strftime(\"%Y-%m-%d\")\n",
    "\n",
    "print(currentDate)"
   ]
  },
  {
   "cell_type": "code",
   "execution_count": 4,
   "id": "b7a585c9",
   "metadata": {},
   "outputs": [
    {
     "data": {
      "text/html": [
       "<div>\n",
       "<style scoped>\n",
       "    .dataframe tbody tr th:only-of-type {\n",
       "        vertical-align: middle;\n",
       "    }\n",
       "\n",
       "    .dataframe tbody tr th {\n",
       "        vertical-align: top;\n",
       "    }\n",
       "\n",
       "    .dataframe thead th {\n",
       "        text-align: right;\n",
       "    }\n",
       "</style>\n",
       "<table border=\"1\" class=\"dataframe\">\n",
       "  <thead>\n",
       "    <tr style=\"text-align: right;\">\n",
       "      <th></th>\n",
       "      <th>SWIS ID</th>\n",
       "      <th>Name</th>\n",
       "      <th>Age</th>\n",
       "      <th>Gender</th>\n",
       "      <th>Race</th>\n",
       "      <th>Height</th>\n",
       "      <th>Weight</th>\n",
       "      <th>Hair</th>\n",
       "      <th>Eyes</th>\n",
       "      <th>Arresting Agency</th>\n",
       "      <th>Booking Date</th>\n",
       "      <th>Assigned Facility</th>\n",
       "      <th>Projected Release Date</th>\n",
       "      <th>Charge Type Counts</th>\n",
       "    </tr>\n",
       "  </thead>\n",
       "  <tbody>\n",
       "    <tr>\n",
       "      <th>0</th>\n",
       "      <td>834075</td>\n",
       "      <td>Adamson, Antawn Deshawn</td>\n",
       "      <td>24</td>\n",
       "      <td>Male</td>\n",
       "      <td>Black</td>\n",
       "      <td>6 ft 0 in</td>\n",
       "      <td>165 lbs</td>\n",
       "      <td>Black</td>\n",
       "      <td>Brown</td>\n",
       "      <td>Portland Sheriff</td>\n",
       "      <td>10/04/2022 09:41 AM</td>\n",
       "      <td>MCDC</td>\n",
       "      <td>Unknown</td>\n",
       "      <td>{'PAROLE OR PPSV VIOL (U Felony)': 1}</td>\n",
       "    </tr>\n",
       "    <tr>\n",
       "      <th>1</th>\n",
       "      <td>720433</td>\n",
       "      <td>Dobbs, Timothy John</td>\n",
       "      <td>40</td>\n",
       "      <td>Male</td>\n",
       "      <td>Black</td>\n",
       "      <td>5 ft 9 in</td>\n",
       "      <td>160 lbs</td>\n",
       "      <td>Black</td>\n",
       "      <td>Brown</td>\n",
       "      <td>Portland Police, Other</td>\n",
       "      <td>02/28/2022 06:55 AM</td>\n",
       "      <td>MCDC</td>\n",
       "      <td>Unknown</td>\n",
       "      <td>{'FELON POSS FA (C Felony)': 4, 'ATT MURDER II...</td>\n",
       "    </tr>\n",
       "    <tr>\n",
       "      <th>2</th>\n",
       "      <td>810789</td>\n",
       "      <td>Porter, Greg Phillip</td>\n",
       "      <td>65</td>\n",
       "      <td>Male</td>\n",
       "      <td>White</td>\n",
       "      <td>5 ft 6 in</td>\n",
       "      <td>240 lbs</td>\n",
       "      <td>White</td>\n",
       "      <td>Blue</td>\n",
       "      <td>Portland Police, Central Precinct</td>\n",
       "      <td>05/25/2018 09:42 PM</td>\n",
       "      <td>MCIJ</td>\n",
       "      <td>Unknown</td>\n",
       "      <td>{'ATT AGGR MURDER (A Felony)': 6, 'ASSAULT I (...</td>\n",
       "    </tr>\n",
       "    <tr>\n",
       "      <th>3</th>\n",
       "      <td>761726</td>\n",
       "      <td>Mccool, Joel Matthew</td>\n",
       "      <td>31</td>\n",
       "      <td>Male</td>\n",
       "      <td>Black</td>\n",
       "      <td>5 ft 7 in</td>\n",
       "      <td>160 lbs</td>\n",
       "      <td>Black</td>\n",
       "      <td>Brown</td>\n",
       "      <td>MCSO Transports</td>\n",
       "      <td>07/05/2018 02:29 PM</td>\n",
       "      <td>MCIJ</td>\n",
       "      <td>Unknown</td>\n",
       "      <td>{'UNLAW USE WEAPON (C Felony)': 19, 'ATT AGGR ...</td>\n",
       "    </tr>\n",
       "    <tr>\n",
       "      <th>4</th>\n",
       "      <td>707888</td>\n",
       "      <td>Hartrasberry, Jamias Leondre</td>\n",
       "      <td>34</td>\n",
       "      <td>Male</td>\n",
       "      <td>Black</td>\n",
       "      <td>5 ft 7 in</td>\n",
       "      <td>160 lbs</td>\n",
       "      <td>Black</td>\n",
       "      <td>Brown</td>\n",
       "      <td>Portland Police, Other</td>\n",
       "      <td>09/01/2018 09:55 AM</td>\n",
       "      <td>MCIJ</td>\n",
       "      <td>Unknown</td>\n",
       "      <td>{'MURDER I (A Felony)': 2, 'DEL COCAINE (B Fel...</td>\n",
       "    </tr>\n",
       "    <tr>\n",
       "      <th>...</th>\n",
       "      <td>...</td>\n",
       "      <td>...</td>\n",
       "      <td>...</td>\n",
       "      <td>...</td>\n",
       "      <td>...</td>\n",
       "      <td>...</td>\n",
       "      <td>...</td>\n",
       "      <td>...</td>\n",
       "      <td>...</td>\n",
       "      <td>...</td>\n",
       "      <td>...</td>\n",
       "      <td>...</td>\n",
       "      <td>...</td>\n",
       "      <td>...</td>\n",
       "    </tr>\n",
       "    <tr>\n",
       "      <th>851</th>\n",
       "      <td>444581</td>\n",
       "      <td>Campbell, James Dutton</td>\n",
       "      <td>53</td>\n",
       "      <td>Male</td>\n",
       "      <td>White</td>\n",
       "      <td>5 ft 11 in</td>\n",
       "      <td>202 lbs</td>\n",
       "      <td>Brown</td>\n",
       "      <td>Blue</td>\n",
       "      <td>Tri-Met Police</td>\n",
       "      <td>10/04/2022 05:20 PM</td>\n",
       "      <td>MCDC</td>\n",
       "      <td>Unknown</td>\n",
       "      <td>{'COUNTY HOLD (U Unknown)': 1}</td>\n",
       "    </tr>\n",
       "    <tr>\n",
       "      <th>852</th>\n",
       "      <td>773340</td>\n",
       "      <td>Cabrera, Louis Jonathan</td>\n",
       "      <td>29</td>\n",
       "      <td>Male</td>\n",
       "      <td>Hispanic</td>\n",
       "      <td>5 ft 5 in</td>\n",
       "      <td>230 lbs</td>\n",
       "      <td>Black</td>\n",
       "      <td>Brown</td>\n",
       "      <td>Portland Sheriff</td>\n",
       "      <td>10/04/2022 02:32 PM</td>\n",
       "      <td>MCDC</td>\n",
       "      <td>Unknown</td>\n",
       "      <td>{'UNLAW USE WEAPON (C Felony)': 2, 'MENACING (...</td>\n",
       "    </tr>\n",
       "    <tr>\n",
       "      <th>853</th>\n",
       "      <td>818010</td>\n",
       "      <td>Brasuell, Joseph David</td>\n",
       "      <td>23</td>\n",
       "      <td>Male</td>\n",
       "      <td>White</td>\n",
       "      <td>5 ft 10 in</td>\n",
       "      <td>140 lbs</td>\n",
       "      <td>Brown</td>\n",
       "      <td>Blue</td>\n",
       "      <td>MCSO Transports</td>\n",
       "      <td>10/04/2022 11:58 AM</td>\n",
       "      <td>MCDC</td>\n",
       "      <td>Unknown</td>\n",
       "      <td>{'POSS ILLEG WEAPON (B Felony)': 1}</td>\n",
       "    </tr>\n",
       "    <tr>\n",
       "      <th>854</th>\n",
       "      <td>757355</td>\n",
       "      <td>Baker, Kevin Wayne</td>\n",
       "      <td>57</td>\n",
       "      <td>Male</td>\n",
       "      <td>White</td>\n",
       "      <td>6 ft 1 in</td>\n",
       "      <td>200 lbs</td>\n",
       "      <td>Black</td>\n",
       "      <td>Brown</td>\n",
       "      <td>NaN</td>\n",
       "      <td>10/04/2022 07:41 AM</td>\n",
       "      <td>MCDC</td>\n",
       "      <td>10/08/2022</td>\n",
       "      <td>{'ROBBERY III (C Felony)': 1}</td>\n",
       "    </tr>\n",
       "    <tr>\n",
       "      <th>855</th>\n",
       "      <td>803954</td>\n",
       "      <td>Armstrong, Amanda Rae</td>\n",
       "      <td>40</td>\n",
       "      <td>Female</td>\n",
       "      <td>White</td>\n",
       "      <td>5 ft 4 in</td>\n",
       "      <td>115 lbs</td>\n",
       "      <td>Brown</td>\n",
       "      <td>Blue</td>\n",
       "      <td>Portland Police, Central Precinct</td>\n",
       "      <td>10/04/2022 08:56 AM</td>\n",
       "      <td>MCDC</td>\n",
       "      <td>Unknown</td>\n",
       "      <td>{'IDENTITY THEFT (C Felony)': 3}</td>\n",
       "    </tr>\n",
       "  </tbody>\n",
       "</table>\n",
       "<p>856 rows × 14 columns</p>\n",
       "</div>"
      ],
      "text/plain": [
       "     SWIS ID                          Name  Age  Gender      Race      Height  \\\n",
       "0     834075       Adamson, Antawn Deshawn   24    Male     Black   6 ft 0 in   \n",
       "1     720433           Dobbs, Timothy John   40    Male     Black   5 ft 9 in   \n",
       "2     810789          Porter, Greg Phillip   65    Male     White   5 ft 6 in   \n",
       "3     761726          Mccool, Joel Matthew   31    Male     Black   5 ft 7 in   \n",
       "4     707888  Hartrasberry, Jamias Leondre   34    Male     Black   5 ft 7 in   \n",
       "..       ...                           ...  ...     ...       ...         ...   \n",
       "851   444581        Campbell, James Dutton   53    Male     White  5 ft 11 in   \n",
       "852   773340       Cabrera, Louis Jonathan   29    Male  Hispanic   5 ft 5 in   \n",
       "853   818010        Brasuell, Joseph David   23    Male     White  5 ft 10 in   \n",
       "854   757355            Baker, Kevin Wayne   57    Male     White   6 ft 1 in   \n",
       "855   803954         Armstrong, Amanda Rae   40  Female     White   5 ft 4 in   \n",
       "\n",
       "      Weight   Hair   Eyes                   Arresting Agency  \\\n",
       "0    165 lbs  Black  Brown                   Portland Sheriff   \n",
       "1    160 lbs  Black  Brown             Portland Police, Other   \n",
       "2    240 lbs  White   Blue  Portland Police, Central Precinct   \n",
       "3    160 lbs  Black  Brown                    MCSO Transports   \n",
       "4    160 lbs  Black  Brown             Portland Police, Other   \n",
       "..       ...    ...    ...                                ...   \n",
       "851  202 lbs  Brown   Blue                     Tri-Met Police   \n",
       "852  230 lbs  Black  Brown                   Portland Sheriff   \n",
       "853  140 lbs  Brown   Blue                    MCSO Transports   \n",
       "854  200 lbs  Black  Brown                                NaN   \n",
       "855  115 lbs  Brown   Blue  Portland Police, Central Precinct   \n",
       "\n",
       "            Booking Date Assigned Facility Projected Release Date  \\\n",
       "0    10/04/2022 09:41 AM              MCDC                Unknown   \n",
       "1    02/28/2022 06:55 AM              MCDC                Unknown   \n",
       "2    05/25/2018 09:42 PM              MCIJ                Unknown   \n",
       "3    07/05/2018 02:29 PM              MCIJ                Unknown   \n",
       "4    09/01/2018 09:55 AM              MCIJ                Unknown   \n",
       "..                   ...               ...                    ...   \n",
       "851  10/04/2022 05:20 PM              MCDC                Unknown   \n",
       "852  10/04/2022 02:32 PM              MCDC                Unknown   \n",
       "853  10/04/2022 11:58 AM              MCDC                Unknown   \n",
       "854  10/04/2022 07:41 AM              MCDC             10/08/2022   \n",
       "855  10/04/2022 08:56 AM              MCDC                Unknown   \n",
       "\n",
       "                                    Charge Type Counts  \n",
       "0                {'PAROLE OR PPSV VIOL (U Felony)': 1}  \n",
       "1    {'FELON POSS FA (C Felony)': 4, 'ATT MURDER II...  \n",
       "2    {'ATT AGGR MURDER (A Felony)': 6, 'ASSAULT I (...  \n",
       "3    {'UNLAW USE WEAPON (C Felony)': 19, 'ATT AGGR ...  \n",
       "4    {'MURDER I (A Felony)': 2, 'DEL COCAINE (B Fel...  \n",
       "..                                                 ...  \n",
       "851                     {'COUNTY HOLD (U Unknown)': 1}  \n",
       "852  {'UNLAW USE WEAPON (C Felony)': 2, 'MENACING (...  \n",
       "853                {'POSS ILLEG WEAPON (B Felony)': 1}  \n",
       "854                      {'ROBBERY III (C Felony)': 1}  \n",
       "855                   {'IDENTITY THEFT (C Felony)': 3}  \n",
       "\n",
       "[856 rows x 14 columns]"
      ]
     },
     "execution_count": 4,
     "metadata": {},
     "output_type": "execute_result"
    }
   ],
   "source": [
    "inmates_details_df"
   ]
  },
  {
   "cell_type": "code",
   "execution_count": 30,
   "id": "24a4c78e",
   "metadata": {},
   "outputs": [
    {
     "data": {
      "text/html": [
       "<div>\n",
       "<style scoped>\n",
       "    .dataframe tbody tr th:only-of-type {\n",
       "        vertical-align: middle;\n",
       "    }\n",
       "\n",
       "    .dataframe tbody tr th {\n",
       "        vertical-align: top;\n",
       "    }\n",
       "\n",
       "    .dataframe thead th {\n",
       "        text-align: right;\n",
       "    }\n",
       "</style>\n",
       "<table border=\"1\" class=\"dataframe\">\n",
       "  <thead>\n",
       "    <tr style=\"text-align: right;\">\n",
       "      <th></th>\n",
       "      <th>SWIS ID</th>\n",
       "      <th>Name</th>\n",
       "      <th>Age</th>\n",
       "      <th>Gender</th>\n",
       "      <th>Race</th>\n",
       "      <th>Height</th>\n",
       "      <th>Weight</th>\n",
       "      <th>Hair</th>\n",
       "      <th>Eyes</th>\n",
       "      <th>Arresting Agency</th>\n",
       "      <th>Booking Date</th>\n",
       "      <th>Assigned Facility</th>\n",
       "      <th>Projected Release Date</th>\n",
       "      <th>Charge Type Counts</th>\n",
       "    </tr>\n",
       "  </thead>\n",
       "  <tbody>\n",
       "    <tr>\n",
       "      <th>0</th>\n",
       "      <td>831307</td>\n",
       "      <td>Adam, Abdiweli</td>\n",
       "      <td>28</td>\n",
       "      <td>Male</td>\n",
       "      <td>Black</td>\n",
       "      <td>5 ft 7 in</td>\n",
       "      <td>130 lbs</td>\n",
       "      <td>Black</td>\n",
       "      <td>Brown</td>\n",
       "      <td>Portland Police, Central Precinct</td>\n",
       "      <td>09/26/2022 05:54 PM</td>\n",
       "      <td>MCDC</td>\n",
       "      <td>Unknown</td>\n",
       "      <td>{'BURGLARY II (C Felony)': 1}</td>\n",
       "    </tr>\n",
       "    <tr>\n",
       "      <th>1</th>\n",
       "      <td>816992</td>\n",
       "      <td>Birch, Jonathan Alexander</td>\n",
       "      <td>31</td>\n",
       "      <td>Male</td>\n",
       "      <td>White</td>\n",
       "      <td>5 ft 9 in</td>\n",
       "      <td>235 lbs</td>\n",
       "      <td>Brown</td>\n",
       "      <td>Brown</td>\n",
       "      <td>MCSO Transports</td>\n",
       "      <td>07/26/2022 12:31 PM</td>\n",
       "      <td>MCIJ</td>\n",
       "      <td>Unknown</td>\n",
       "      <td>{'COUNTY HOLD (U Unknown)': 9, 'RECK ENDANGER ...</td>\n",
       "    </tr>\n",
       "    <tr>\n",
       "      <th>2</th>\n",
       "      <td>810789</td>\n",
       "      <td>Porter, Greg Phillip</td>\n",
       "      <td>65</td>\n",
       "      <td>Male</td>\n",
       "      <td>White</td>\n",
       "      <td>5 ft 6 in</td>\n",
       "      <td>240 lbs</td>\n",
       "      <td>White</td>\n",
       "      <td>Blue</td>\n",
       "      <td>Portland Police, Central Precinct</td>\n",
       "      <td>05/25/2018 09:42 PM</td>\n",
       "      <td>MCIJ</td>\n",
       "      <td>Unknown</td>\n",
       "      <td>{'ATT AGGR MURDER (A Felony)': 6, 'ASSAULT I (...</td>\n",
       "    </tr>\n",
       "    <tr>\n",
       "      <th>3</th>\n",
       "      <td>761726</td>\n",
       "      <td>Mccool, Joel Matthew</td>\n",
       "      <td>31</td>\n",
       "      <td>Male</td>\n",
       "      <td>Black</td>\n",
       "      <td>5 ft 7 in</td>\n",
       "      <td>160 lbs</td>\n",
       "      <td>Black</td>\n",
       "      <td>Brown</td>\n",
       "      <td>MCSO Transports</td>\n",
       "      <td>07/05/2018 02:29 PM</td>\n",
       "      <td>MCIJ</td>\n",
       "      <td>Unknown</td>\n",
       "      <td>{'UNLAW USE WEAPON (C Felony)': 19, 'ATT AGGR ...</td>\n",
       "    </tr>\n",
       "    <tr>\n",
       "      <th>4</th>\n",
       "      <td>86303</td>\n",
       "      <td>Garner, Brandon Paul</td>\n",
       "      <td>54</td>\n",
       "      <td>Male</td>\n",
       "      <td>Black</td>\n",
       "      <td>6 ft 1 in</td>\n",
       "      <td>175 lbs</td>\n",
       "      <td>Black</td>\n",
       "      <td>Brown</td>\n",
       "      <td>Portland Police, East Precinct</td>\n",
       "      <td>08/31/2018 10:37 PM</td>\n",
       "      <td>MCIJ</td>\n",
       "      <td>Unknown</td>\n",
       "      <td>{'PROM PROST (C Felony)': 3, 'COMPELL PROST (B...</td>\n",
       "    </tr>\n",
       "    <tr>\n",
       "      <th>...</th>\n",
       "      <td>...</td>\n",
       "      <td>...</td>\n",
       "      <td>...</td>\n",
       "      <td>...</td>\n",
       "      <td>...</td>\n",
       "      <td>...</td>\n",
       "      <td>...</td>\n",
       "      <td>...</td>\n",
       "      <td>...</td>\n",
       "      <td>...</td>\n",
       "      <td>...</td>\n",
       "      <td>...</td>\n",
       "      <td>...</td>\n",
       "      <td>...</td>\n",
       "    </tr>\n",
       "    <tr>\n",
       "      <th>866</th>\n",
       "      <td>795262</td>\n",
       "      <td>Cockrell, Jocelyn D</td>\n",
       "      <td>40</td>\n",
       "      <td>Female</td>\n",
       "      <td>White</td>\n",
       "      <td>5 ft 5 in</td>\n",
       "      <td>170 lbs</td>\n",
       "      <td>Brown</td>\n",
       "      <td>Brown</td>\n",
       "      <td>MCSO Transports</td>\n",
       "      <td>09/26/2022 11:57 AM</td>\n",
       "      <td>MCDC</td>\n",
       "      <td>Unknown</td>\n",
       "      <td>{'TRESPASS I (A Misdemeanor)': 1}</td>\n",
       "    </tr>\n",
       "    <tr>\n",
       "      <th>868</th>\n",
       "      <td>811647</td>\n",
       "      <td>Burke, Sean Michael</td>\n",
       "      <td>36</td>\n",
       "      <td>Male</td>\n",
       "      <td>White</td>\n",
       "      <td>5 ft 11 in</td>\n",
       "      <td>170 lbs</td>\n",
       "      <td>Brown</td>\n",
       "      <td>Brown</td>\n",
       "      <td>Portland Police, East Precinct</td>\n",
       "      <td>09/26/2022 12:18 PM</td>\n",
       "      <td>MCDC</td>\n",
       "      <td>Unknown</td>\n",
       "      <td>{'COUNTY HOLD (U Unknown)': 1, 'FUGITIVE (U Fe...</td>\n",
       "    </tr>\n",
       "    <tr>\n",
       "      <th>869</th>\n",
       "      <td>743033</td>\n",
       "      <td>Broughton, James</td>\n",
       "      <td>32</td>\n",
       "      <td>Male</td>\n",
       "      <td>Black</td>\n",
       "      <td>5 ft 8 in</td>\n",
       "      <td>143 lbs</td>\n",
       "      <td>Black</td>\n",
       "      <td>Brown</td>\n",
       "      <td>Community Corrections</td>\n",
       "      <td>09/26/2022 03:47 PM</td>\n",
       "      <td>MCDC</td>\n",
       "      <td>Unknown</td>\n",
       "      <td>{'PAROLE OR PPSV VIOL (U Felony)': 1}</td>\n",
       "    </tr>\n",
       "    <tr>\n",
       "      <th>870</th>\n",
       "      <td>672315</td>\n",
       "      <td>Alatorre, Trinidad</td>\n",
       "      <td>38</td>\n",
       "      <td>Male</td>\n",
       "      <td>White</td>\n",
       "      <td>5 ft 9 in</td>\n",
       "      <td>190 lbs</td>\n",
       "      <td>Brown</td>\n",
       "      <td>Brown</td>\n",
       "      <td>MCSO Transports</td>\n",
       "      <td>09/26/2022 11:46 AM</td>\n",
       "      <td>MCIJ</td>\n",
       "      <td>Unknown</td>\n",
       "      <td>{'UNLAW USE WEAPON (C Felony)': 1, 'MENACING (...</td>\n",
       "    </tr>\n",
       "    <tr>\n",
       "      <th>871</th>\n",
       "      <td>675584</td>\n",
       "      <td>Aisea, Oloseni Haiti</td>\n",
       "      <td>41</td>\n",
       "      <td>Male</td>\n",
       "      <td>P</td>\n",
       "      <td>6 ft 0 in</td>\n",
       "      <td>288 lbs</td>\n",
       "      <td>Black</td>\n",
       "      <td>Brown</td>\n",
       "      <td>Portland Police, East Precinct</td>\n",
       "      <td>09/26/2022 05:12 AM</td>\n",
       "      <td>MCDC</td>\n",
       "      <td>Unknown</td>\n",
       "      <td>{'FELON POSS FA (C Felony)': 2, 'POSS BODY ARM...</td>\n",
       "    </tr>\n",
       "  </tbody>\n",
       "</table>\n",
       "<p>867 rows × 14 columns</p>\n",
       "</div>"
      ],
      "text/plain": [
       "     SWIS ID                       Name  Age  Gender   Race      Height  \\\n",
       "0     831307             Adam, Abdiweli   28    Male  Black   5 ft 7 in   \n",
       "1     816992  Birch, Jonathan Alexander   31    Male  White   5 ft 9 in   \n",
       "2     810789       Porter, Greg Phillip   65    Male  White   5 ft 6 in   \n",
       "3     761726       Mccool, Joel Matthew   31    Male  Black   5 ft 7 in   \n",
       "4      86303       Garner, Brandon Paul   54    Male  Black   6 ft 1 in   \n",
       "..       ...                        ...  ...     ...    ...         ...   \n",
       "866   795262        Cockrell, Jocelyn D   40  Female  White   5 ft 5 in   \n",
       "868   811647        Burke, Sean Michael   36    Male  White  5 ft 11 in   \n",
       "869   743033           Broughton, James   32    Male  Black   5 ft 8 in   \n",
       "870   672315         Alatorre, Trinidad   38    Male  White   5 ft 9 in   \n",
       "871   675584       Aisea, Oloseni Haiti   41    Male      P   6 ft 0 in   \n",
       "\n",
       "      Weight   Hair   Eyes                   Arresting Agency  \\\n",
       "0    130 lbs  Black  Brown  Portland Police, Central Precinct   \n",
       "1    235 lbs  Brown  Brown                    MCSO Transports   \n",
       "2    240 lbs  White   Blue  Portland Police, Central Precinct   \n",
       "3    160 lbs  Black  Brown                    MCSO Transports   \n",
       "4    175 lbs  Black  Brown     Portland Police, East Precinct   \n",
       "..       ...    ...    ...                                ...   \n",
       "866  170 lbs  Brown  Brown                    MCSO Transports   \n",
       "868  170 lbs  Brown  Brown     Portland Police, East Precinct   \n",
       "869  143 lbs  Black  Brown              Community Corrections   \n",
       "870  190 lbs  Brown  Brown                    MCSO Transports   \n",
       "871  288 lbs  Black  Brown     Portland Police, East Precinct   \n",
       "\n",
       "            Booking Date Assigned Facility Projected Release Date  \\\n",
       "0    09/26/2022 05:54 PM              MCDC                Unknown   \n",
       "1    07/26/2022 12:31 PM              MCIJ                Unknown   \n",
       "2    05/25/2018 09:42 PM              MCIJ                Unknown   \n",
       "3    07/05/2018 02:29 PM              MCIJ                Unknown   \n",
       "4    08/31/2018 10:37 PM              MCIJ                Unknown   \n",
       "..                   ...               ...                    ...   \n",
       "866  09/26/2022 11:57 AM              MCDC                Unknown   \n",
       "868  09/26/2022 12:18 PM              MCDC                Unknown   \n",
       "869  09/26/2022 03:47 PM              MCDC                Unknown   \n",
       "870  09/26/2022 11:46 AM              MCIJ                Unknown   \n",
       "871  09/26/2022 05:12 AM              MCDC                Unknown   \n",
       "\n",
       "                                    Charge Type Counts  \n",
       "0                        {'BURGLARY II (C Felony)': 1}  \n",
       "1    {'COUNTY HOLD (U Unknown)': 9, 'RECK ENDANGER ...  \n",
       "2    {'ATT AGGR MURDER (A Felony)': 6, 'ASSAULT I (...  \n",
       "3    {'UNLAW USE WEAPON (C Felony)': 19, 'ATT AGGR ...  \n",
       "4    {'PROM PROST (C Felony)': 3, 'COMPELL PROST (B...  \n",
       "..                                                 ...  \n",
       "866                  {'TRESPASS I (A Misdemeanor)': 1}  \n",
       "868  {'COUNTY HOLD (U Unknown)': 1, 'FUGITIVE (U Fe...  \n",
       "869              {'PAROLE OR PPSV VIOL (U Felony)': 1}  \n",
       "870  {'UNLAW USE WEAPON (C Felony)': 1, 'MENACING (...  \n",
       "871  {'FELON POSS FA (C Felony)': 2, 'POSS BODY ARM...  \n",
       "\n",
       "[867 rows x 14 columns]"
      ]
     },
     "execution_count": 30,
     "metadata": {},
     "output_type": "execute_result"
    }
   ],
   "source": [
    "inmates_details_df.dropna()"
   ]
  },
  {
   "cell_type": "code",
   "execution_count": 28,
   "id": "5ff87ffd",
   "metadata": {},
   "outputs": [],
   "source": [
    "gender_counts = {**gender_counts, 'Date': currentDate}"
   ]
  },
  {
   "cell_type": "code",
   "execution_count": 22,
   "id": "a8158842",
   "metadata": {},
   "outputs": [],
   "source": [
    "pd.DataFrame([gender_counts]).to_csv('csvs/inmate_counts_gender.csv', mode='a',  index=False, header=False)"
   ]
  },
  {
   "cell_type": "code",
   "execution_count": 17,
   "id": "cbd0d4f7",
   "metadata": {},
   "outputs": [
    {
     "data": {
      "text/plain": [
       "White                         428\n",
       "Black                         297\n",
       "Hispanic                       99\n",
       "Asian                          27\n",
       "Native American or Alaskan     14\n",
       "P                               7\n",
       "Name: Race, dtype: int64"
      ]
     },
     "execution_count": 17,
     "metadata": {},
     "output_type": "execute_result"
    }
   ],
   "source": [
    "inmates_details_df['Race'].value_counts()"
   ]
  },
  {
   "cell_type": "code",
   "execution_count": 8,
   "id": "ab8c4106",
   "metadata": {},
   "outputs": [
    {
     "data": {
      "text/plain": [
       "Black     400\n",
       "Brown     361\n",
       "Blonde     51\n",
       "Gray       23\n",
       "XXX        21\n",
       "Red         8\n",
       "White       1\n",
       "Name: Hair, dtype: int64"
      ]
     },
     "execution_count": 8,
     "metadata": {},
     "output_type": "execute_result"
    }
   ],
   "source": [
    "inmates_details_df['Hair'].value_counts()"
   ]
  },
  {
   "cell_type": "code",
   "execution_count": 9,
   "id": "1ff21633",
   "metadata": {},
   "outputs": [
    {
     "data": {
      "text/plain": [
       "Brown    616\n",
       "Blue     147\n",
       "Hazel     55\n",
       "Green     39\n",
       "Black      5\n",
       "Pink       1\n",
       "XXX        1\n",
       "Gray       1\n",
       "Name: Eyes, dtype: int64"
      ]
     },
     "execution_count": 9,
     "metadata": {},
     "output_type": "execute_result"
    }
   ],
   "source": [
    "inmates_details_df['Eyes'].value_counts()"
   ]
  },
  {
   "cell_type": "code",
   "execution_count": 14,
   "id": "41f1f4e8",
   "metadata": {},
   "outputs": [
    {
     "data": {
      "text/plain": [
       "Portland Police, East Precinct       167\n",
       "Portland Police, Central Precinct    136\n",
       "MCSO Transports                      118\n",
       "Portland Police, North Precinct       87\n",
       "Portland Police, Other                82\n",
       "US Marshals Service                   77\n",
       "Gresham Police Department             54\n",
       "Portland Sheriff                      51\n",
       "Community Corrections                 34\n",
       "Tri-Met Police                        17\n",
       "Portland Criminal Court                9\n",
       "Multnomah County Sheriff Booking       9\n",
       "Other Agency                           7\n",
       "Port of Portland                       6\n",
       "Drug Enforcement Administration        5\n",
       "OHSU University Police                 2\n",
       "PSU                                    1\n",
       "Name: Arresting Agency, dtype: int64"
      ]
     },
     "execution_count": 14,
     "metadata": {},
     "output_type": "execute_result"
    }
   ],
   "source": [
    "inmates_details_df['Arresting Agency'].value_counts()"
   ]
  },
  {
   "cell_type": "code",
   "execution_count": 15,
   "id": "2c586a97",
   "metadata": {},
   "outputs": [
    {
     "data": {
      "text/plain": [
       "MCIJ    520\n",
       "MCDC    353\n",
       "Name: Assigned Facility, dtype: int64"
      ]
     },
     "execution_count": 15,
     "metadata": {},
     "output_type": "execute_result"
    }
   ],
   "source": [
    "inmates_details_df['Assigned Facility'].value_counts()"
   ]
  },
  {
   "cell_type": "code",
   "execution_count": 16,
   "id": "c8d35cba",
   "metadata": {},
   "outputs": [
    {
     "data": {
      "text/plain": [
       "Unknown       742\n",
       "09/18/2022      7\n",
       "09/20/2022      5\n",
       "09/19/2022      5\n",
       "10/09/2022      5\n",
       "             ... \n",
       "11/11/2022      1\n",
       "10/21/2022      1\n",
       "10/29/2022      1\n",
       "01/03/2023      1\n",
       "01/13/2023      1\n",
       "Name: Projected Release Date, Length: 75, dtype: int64"
      ]
     },
     "execution_count": 16,
     "metadata": {},
     "output_type": "execute_result"
    }
   ],
   "source": [
    "inmates_details_df['Projected Release Date'].value_counts()"
   ]
  },
  {
   "cell_type": "code",
   "execution_count": 10,
   "id": "8f219a24",
   "metadata": {},
   "outputs": [
    {
     "data": {
      "text/plain": [
       "35.0"
      ]
     },
     "execution_count": 10,
     "metadata": {},
     "output_type": "execute_result"
    }
   ],
   "source": [
    "inmates_details_df['Age'].median()"
   ]
  }
 ],
 "metadata": {
  "kernelspec": {
   "display_name": "Python 3 (ipykernel)",
   "language": "python",
   "name": "python3"
  },
  "language_info": {
   "codemirror_mode": {
    "name": "ipython",
    "version": 3
   },
   "file_extension": ".py",
   "mimetype": "text/x-python",
   "name": "python",
   "nbconvert_exporter": "python",
   "pygments_lexer": "ipython3",
   "version": "3.9.12"
  }
 },
 "nbformat": 4,
 "nbformat_minor": 5
}
